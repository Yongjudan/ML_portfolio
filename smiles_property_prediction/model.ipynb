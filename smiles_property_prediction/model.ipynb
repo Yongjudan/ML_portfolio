{
 "cells": [
  {
   "cell_type": "markdown",
   "id": "3d2a8098",
   "metadata": {},
   "source": [
    "The ml_df generated will be utilized to train a model and will be checked on performance with the properties from the processed data.\n",
    "\n",
    "The model will be using neural network of two hidden layers and same number of neurons on the layers. \n",
    "K-Fold validation of k=5 will be used to reduce overfitting.\n",
    "MSE will be used to evaluate each fold and represent the accuracy\n",
    "\n",
    "Still will be going with the molecules that have atom number equal to 19"
   ]
  },
  {
   "cell_type": "code",
   "execution_count": 15,
   "id": "bf9a3775",
   "metadata": {},
   "outputs": [],
   "source": [
    "# import libraries\n",
    "import os\n",
    "import pandas as pd\n",
    "import numpy as np\n",
    "import matplotlib.pyplot as plt\n",
    "from sklearn.model_selection import train_test_split, KFold\n",
    "from sklearn.preprocessing import MinMaxScaler\n",
    "from sklearn.metrics import mean_squared_error\n",
    "import torch\n",
    "import torch.nn as nn\n",
    "import torch.nn.functional as F\n",
    "import torch.optim as optim\n",
    "from rdkit import Chem\n",
    "from rdkit.Chem import Draw\n",
    "from mordred import descriptors, Calculator\n",
    "from molml.features import CoulombMatrix\n",
    "import ast"
   ]
  },
  {
   "cell_type": "code",
   "execution_count": 16,
   "id": "8643d4ce",
   "metadata": {},
   "outputs": [],
   "source": [
    "# load dataset\n",
    "ml_df = pd.read_csv('ml_df.csv')\n",
    "df_19 = pd.read_csv('df_19.csv')"
   ]
  },
  {
   "cell_type": "code",
   "execution_count": 17,
   "id": "b8e3cc14",
   "metadata": {},
   "outputs": [],
   "source": [
    "# Defining NN model\n",
    "def nn_model(X, y, neurons=64, epochs=100, test_size = 0.2, batch_size=32, lr=0.001, random_state = 42):\n",
    "    # train_test_split\n",
    "    # X is input features, and y is target values\n",
    "    X_train, X_test, y_train, y_test = train_test_split(\n",
    "        X, y, test_size = test_size, random_state = random_state\n",
    "    )\n",
    "\n",
    "    # Convert to tensor\n",
    "    X_train = torch.tensor(X_train.values, dtype=torch.float32)\n",
    "    y_train = torch.tensor(y_train.values, dtype=torch.float32).view(-1, 1) \n",
    "    # Reshape into a 2D column vector with 1 column and as many rows as needed\n",
    "    X_test = torch.tensor(X_test.values, dtype=torch.float32)\n",
    "    y_test = torch.tensor(y_test.values, dtype=torch.float32).view(-1, 1)\n",
    "\n",
    "    # Build model\n",
    "    model = nn.Sequential(\n",
    "        nn.Linear(X_train.shape[1], neurons), # .shape[1] gets the number of input features from .shape\n",
    "        nn.ReLU(), # Adds non-linearity without activation function, goes in between hidden layers \n",
    "        nn.Linear(neurons, neurons),\n",
    "        nn.ReLU(),\n",
    "        nn.Linear(neurons, 1)\n",
    "    )\n",
    "\n",
    "    # Instantiate loss function and optimizer\n",
    "    criterion = nn.MSELoss()\n",
    "    optimizer = optim.Adam(model.parameters(), lr=lr) # .parameters() return all learnable parameters in model\n",
    "\n",
    "    # Training loop\n",
    "    for epoch in range(epochs):\n",
    "        model.train()\n",
    "        perm = torch.randperm(X_train.size(0)) # Randomly shuffles indices in training data\n",
    "        for i in range(0, X_train.size(0), batch_size): # Split into batches for efficiency and speed\n",
    "            idx = perm[i:i+batch_size]\n",
    "            batch_x, batch_y = X_train[idx], y_train[idx]\n",
    "            optimizer.zero_grad()\n",
    "            preds = model(batch_x)\n",
    "            loss = criterion(preds, batch_y)\n",
    "            loss.backward()\n",
    "            optimizer.step()\n",
    "        \n",
    "    # Evaluation\n",
    "    model.eval()\n",
    "    with torch.no_grad():\n",
    "        preds = model(X_test)\n",
    "        mse = mean_squared_error(y_test.numpy(), preds.numpy())\n",
    "        print(f\"Test MSE: {mse:.4f}\")\n",
    "\n",
    "    return model, mse"
   ]
  },
  {
   "cell_type": "code",
   "execution_count": 18,
   "id": "198eb2fd",
   "metadata": {},
   "outputs": [
    {
     "name": "stdout",
     "output_type": "stream",
     "text": [
      "Test MSE: 0.7909\n"
     ]
    }
   ],
   "source": [
    "# Test with 'mu' property\n",
    "model, mse = nn_model(ml_df, df_19['mu'])"
   ]
  }
 ],
 "metadata": {
  "kernelspec": {
   "display_name": "venv",
   "language": "python",
   "name": "python3"
  },
  "language_info": {
   "codemirror_mode": {
    "name": "ipython",
    "version": 3
   },
   "file_extension": ".py",
   "mimetype": "text/x-python",
   "name": "python",
   "nbconvert_exporter": "python",
   "pygments_lexer": "ipython3",
   "version": "3.10.13"
  }
 },
 "nbformat": 4,
 "nbformat_minor": 5
}
