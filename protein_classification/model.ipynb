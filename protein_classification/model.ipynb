{
 "cells": [
  {
   "cell_type": "code",
   "execution_count": 13,
   "id": "8adb27da",
   "metadata": {},
   "outputs": [],
   "source": [
    "# Import library\n",
    "import pandas as pd\n",
    "import numpy as np\n",
    "from matplotlib import pyplot as plt\n",
    "import seaborn as sns\n",
    "from sklearn.feature_extraction.text import CountVectorizer\n",
    "from sklearn.preprocessing import LabelEncoder, StandardScaler\n",
    "from scipy.sparse import hstack\n",
    "from sklearn.model_selection import train_test_split\n",
    "from sklearn.ensemble import RandomForestClassifier\n",
    "from sklearn.metrics import classification_report\n",
    "from sklearn.model_selection import GridSearchCV\n",
    "\n",
    "# Load data\n",
    "ml_data = pd.read_csv('ml_data.csv', index_col=0)"
   ]
  },
  {
   "cell_type": "markdown",
   "id": "d01a76d6",
   "metadata": {},
   "source": [
    "Will be using multi-modal classification.\n",
    "Input will be the AA sequence along with the numerical features and the target would be the protein classification.\n",
    "The first step will be to convert the AA sequence (unstructured string data) into n-gram of 4. \n",
    "n-gram helps capture local patterns of the protein sequence and converts them in to numeric vectors.\n",
    "Scikit-learn's CountVectorizer that extracts the n-grams from the strings.\n"
   ]
  },
  {
   "cell_type": "code",
   "execution_count": 14,
   "id": "b5b48321",
   "metadata": {},
   "outputs": [
    {
     "name": "stdout",
     "output_type": "stream",
     "text": [
      "       classification structureId  \\\n",
      "0      OXIDOREDUCTASE        1A72   \n",
      "1       VIRAL PROTEIN        1A8O   \n",
      "2      OXIDOREDUCTASE        1AR4   \n",
      "3         TRANSFERASE        1AUE   \n",
      "4           HYDROLASE        1AUK   \n",
      "...               ...         ...   \n",
      "33766   VIRAL PROTEIN        6F5U   \n",
      "33767       HYDROLASE        6F6P   \n",
      "33768       HYDROLASE        6F6P   \n",
      "33769   VIRAL PROTEIN        6F6S   \n",
      "33770   VIRAL PROTEIN        6F8P   \n",
      "\n",
      "                                                sequence  resolution  \\\n",
      "0      STAGKVIKCKAAVLWEEKKPFSIEEVEVAPPKAHEVRIKMVATGIC...        2.60   \n",
      "1      MDIRQGPKEPFRDYVDRFYKTLRAEQASQEVKNWMTETLLVQNANP...        1.70   \n",
      "2      AVYTLPELPYDYSALEPYISGEIMELHHDKHHKAYVDGANTALDKL...        1.90   \n",
      "3      ELIRVAILWHEMWHEGLEEASRLYFGERNVKGMFEVLEPLHAMMER...        2.33   \n",
      "4      RPPNIVLIFADDLGYGDLGCYGHPSSTTPNLDQLAAGGLRFTDFYV...        2.10   \n",
      "...                                                  ...         ...   \n",
      "33766  EAIVNAQPKCNPNLHYWTTQDEGAAIGLAWIPYFGPAAEGIYIEGL...        2.07   \n",
      "33767  GAASRLRSPSVLEVREKGYERLKEELAKAQRELKLKDEECERLSKV...        2.45   \n",
      "33768  GASSRLRSPSVLEVREKGYERLKEELAKAQRELKLKDEECERLSKV...        2.45   \n",
      "33769  ETGRSIPLGVIHNSALQVSDVDKLVCRDKLSSTNQLRSVGLNLEGN...        2.29   \n",
      "33770  EDPHLRNRPGKGHNYIDGMTQEDATCKPVTYAGACSSFDVLLEKGK...        1.60   \n",
      "\n",
      "       structureMolecularWeight  crystallizationTempK  densityMatthews  \\\n",
      "0                      40658.50                 277.0             2.30   \n",
      "1                       8175.72                 277.0             2.21   \n",
      "2                      45428.53                 277.0             2.05   \n",
      "3                      24203.73                 277.0             2.25   \n",
      "4                      52423.45                 291.0             3.30   \n",
      "...                         ...                   ...              ...   \n",
      "33766                  57299.72                 293.0             3.48   \n",
      "33767                  47994.95                 291.0             2.61   \n",
      "33768                  47994.95                 291.0             2.61   \n",
      "33769                  58337.03                 293.0             3.83   \n",
      "33770                  34958.86                 298.0             2.47   \n",
      "\n",
      "       densityPercentSol  phValue  residueCount  \n",
      "0                  46.82      8.4           374  \n",
      "1                  43.80      8.0            70  \n",
      "2                  32.00      6.1           402  \n",
      "3                  45.00      8.0           200  \n",
      "4                  63.00      5.4           489  \n",
      "...                  ...      ...           ...  \n",
      "33766              64.67      5.2           498  \n",
      "33767              56.00      7.3           424  \n",
      "33768              56.00      7.3           424  \n",
      "33769              67.89      5.2           497  \n",
      "33770              50.15      7.0           316  \n",
      "\n",
      "[33763 rows x 10 columns]\n"
     ]
    }
   ],
   "source": [
    "# Overview of data\n",
    "print(ml_data)"
   ]
  },
  {
   "cell_type": "code",
   "execution_count": null,
   "id": "48e35379",
   "metadata": {},
   "outputs": [],
   "source": [
    "# Prepare target variable: Classification\n",
    "le = LabelEncoder()\n",
    "y = le.fit_transform(ml_data['classification']) # Strings to numeric integers\n",
    "\n",
    "# prepare 4-mer sequence feature\n",
    "vectorizer = CountVectorizer(analyzer='char', ngram_range=(4, 4))\n",
    "X_seq = vectorizer.fit_transform(ml_data['sequence']) \n",
    "\n",
    "# prepare numeric features\n",
    "numeric_col = ['resolution', 'crystallizationTempK', 'densityMatthews', 'densityPercentSol', 'phValue', 'residueCount']\n",
    "X_num = ml_data[numeric_col]\n",
    "\n",
    "# Standardize feature \n",
    "scaler = StandardScaler()\n",
    "X_num_scaled = scaler.fit_transform(X_num)\n",
    "\n",
    "# Combine features\n",
    "X_all = hstack([X_seq, X_num_scaled]) # Horizontally stacks array side by side \n",
    "\n",
    "\n",
    "# Train test split\n",
    "X_train, X_test, y_train, y_test = train_test_split(X_all, y, test_size=0.2, random_state=42, stratify=y)\n",
    "# stratify= ensures that the proportion preserved in both the training and testing sets. Needed for balanced splits of data\n"
   ]
  },
  {
   "cell_type": "code",
   "execution_count": 17,
   "id": "58624987",
   "metadata": {},
   "outputs": [
    {
     "name": "stdout",
     "output_type": "stream",
     "text": [
      "                                   precision    recall  f1-score   support\n",
      "\n",
      "                    CELL ADHESION       0.79      0.37      0.50       119\n",
      "                       CELL CYCLE       0.67      0.35      0.46        63\n",
      "                        CHAPERONE       0.94      0.42      0.59        80\n",
      "              DNA BINDING PROTEIN       0.71      0.24      0.36        99\n",
      "               ELECTRON TRANSPORT       0.66      0.56      0.61        87\n",
      "                  GENE REGULATION       0.33      0.23      0.27        30\n",
      "                        HYDROLASE       0.38      0.87      0.53      1238\n",
      "    HYDROLASE/HYDROLASE INHIBITOR       0.47      0.47      0.47       183\n",
      "                    IMMUNE SYSTEM       0.84      0.83      0.84       694\n",
      "                        ISOMERASE       0.96      0.55      0.70       149\n",
      "                           LIGASE       0.74      0.42      0.54       160\n",
      "                            LYASE       0.96      0.65      0.77       273\n",
      "                 MEMBRANE PROTEIN       0.75      0.45      0.56       127\n",
      "            METAL BINDING PROTEIN       0.64      0.28      0.39        76\n",
      "                   OXIDOREDUCTASE       0.88      0.61      0.72       735\n",
      "                   PHOTOSYNTHESIS       0.64      0.83      0.72        46\n",
      "                  PROTEIN BINDING       0.60      0.19      0.29       190\n",
      "                PROTEIN TRANSPORT       0.87      0.46      0.61       114\n",
      "              RNA BINDING PROTEIN       0.68      0.22      0.33        59\n",
      "                SIGNALING PROTEIN       0.78      0.34      0.47       238\n",
      "               STRUCTURAL PROTEIN       0.72      0.36      0.48       100\n",
      "            SUGAR BINDING PROTEIN       0.83      0.61      0.70        82\n",
      "                            TOXIN       0.92      0.48      0.63        69\n",
      "                    TRANSCRIPTION       0.67      0.32      0.43       244\n",
      "                      TRANSFERASE       0.64      0.65      0.65       924\n",
      "TRANSFERASE/TRANSFERASE INHIBITOR       0.40      0.32      0.36        84\n",
      "                TRANSPORT PROTEIN       0.82      0.40      0.54       236\n",
      "                 UNKNOWN FUNCTION       0.65      0.19      0.29        80\n",
      "                    VIRAL PROTEIN       0.88      0.48      0.62       174\n",
      "\n",
      "                         accuracy                           0.59      6753\n",
      "                        macro avg       0.72      0.45      0.53      6753\n",
      "                     weighted avg       0.69      0.59      0.59      6753\n",
      "\n"
     ]
    }
   ],
   "source": [
    "# Random Forest\n",
    "\n",
    "model = RandomForestClassifier(n_estimators =100, class_weight='balanced', random_state=42)\n",
    "# Since there were an imbalance of classification counts\n",
    "# Will add class_weight argument for the model to focus more on rare classes\n",
    "\n",
    "model.fit(X_train, y_train)\n",
    "\n",
    "y_pred = model.predict(X_test)\n",
    "print(classification_report(y_test, y_pred, target_names=le.classes_))"
   ]
  }
 ],
 "metadata": {
  "kernelspec": {
   "display_name": "prot_class_venv",
   "language": "python",
   "name": "python3"
  },
  "language_info": {
   "codemirror_mode": {
    "name": "ipython",
    "version": 3
   },
   "file_extension": ".py",
   "mimetype": "text/x-python",
   "name": "python",
   "nbconvert_exporter": "python",
   "pygments_lexer": "ipython3",
   "version": "3.10.13"
  }
 },
 "nbformat": 4,
 "nbformat_minor": 5
}
