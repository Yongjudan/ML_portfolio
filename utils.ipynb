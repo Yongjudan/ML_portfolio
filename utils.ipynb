{
 "cells": [
  {
   "cell_type": "code",
   "execution_count": 1,
   "id": "f23de10a",
   "metadata": {},
   "outputs": [
    {
     "name": "stdout",
     "output_type": "stream",
     "text": [
      "❌ Not in a virtual environment.\n"
     ]
    }
   ],
   "source": [
    "# Check if the script is running in a virtual environment\n",
    "import sys\n",
    "\n",
    "if hasattr(sys, 'real_prefix') or (hasattr(sys, 'base_prefix') and sys.base_prefix != sys.prefix):\n",
    "    print(\"✅ Virtual environment is active!\")\n",
    "    print(\"Venv path:\", sys.prefix)\n",
    "else:\n",
    "    print(\"❌ Not in a virtual environment.\")"
   ]
  },
  {
   "cell_type": "markdown",
   "id": "32d8266e",
   "metadata": {},
   "source": [
    "Steps to create and activate venv for individual projects:\n",
    "1. Create virtual environment: python -m venv name_of_venv\n",
    "2. Activate virtual environment: source name_of_venv/bin/activate\n",
    "3. Install ipykernel: pip install ipykernel\n",
    "4. Register the kernel: python -m ipykernel install --user --name=venv --display-name \"name_you_want (venv)\"\n",
    "5. Restart VS code"
   ]
  },
  {
   "cell_type": "code",
   "execution_count": null,
   "id": "8b950a16",
   "metadata": {},
   "outputs": [],
   "source": [
    "# Correlation heat map to find correlation between features\n",
    "import numpy as np\n",
    "import matplotlib.pyplot as plt\n",
    "import seaborn as sns\n",
    "\n",
    "plt.figure(figsize=(5, 5))\n",
    "sns.heatmap(DATAFRAME.corr(numeric_only=True), annot=True, fmt='.2f')\n",
    "plt.xticks(rotation=45, ha='right')  # Rotate ticker labels for readability\n",
    "plt.yticks(rotation=0)\n",
    "plt.tight_layout()\n",
    "plt.title(f'Correlation Matrix')\n",
    "plt.show()"
   ]
  }
 ],
 "metadata": {
  "kernelspec": {
   "display_name": "base",
   "language": "python",
   "name": "python3"
  },
  "language_info": {
   "codemirror_mode": {
    "name": "ipython",
    "version": 3
   },
   "file_extension": ".py",
   "mimetype": "text/x-python",
   "name": "python",
   "nbconvert_exporter": "python",
   "pygments_lexer": "ipython3",
   "version": "3.12.4"
  }
 },
 "nbformat": 4,
 "nbformat_minor": 5
}
