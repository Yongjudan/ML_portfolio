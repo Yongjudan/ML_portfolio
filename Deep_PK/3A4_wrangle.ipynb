{
 "cells": [
  {
   "cell_type": "markdown",
   "id": "f99ed486",
   "metadata": {},
   "source": [
    "Will do a experimental run with 3A4 inhibition data for practice.\n",
    "\n",
    "Utilizing SMILES representation to calculate descriptors and filter out the features that will be needed."
   ]
  },
  {
   "cell_type": "code",
   "execution_count": 3,
   "id": "7dd8b916",
   "metadata": {},
   "outputs": [],
   "source": [
    "# Import libraries\n",
    "import pandas as pd\n",
    "import numpy as np\n",
    "import matplotlib.pyplot as plt\n",
    "import seaborn as sns\n",
    "\n",
    "from rdkit import Chem\n",
    "from rdkit.Chem import Draw\n",
    "from mordred import Calculator, descriptors\n",
    "from mordred._base import Descriptor\n",
    "\n",
    "from sklearn.feature_selection import VarianceThreshold\n",
    "from sklearn.preprocessing import StandardScaler\n",
    "\n",
    "from tqdm import tqdm"
   ]
  },
  {
   "cell_type": "code",
   "execution_count": 4,
   "id": "d6048e8e",
   "metadata": {},
   "outputs": [],
   "source": [
    "# Load data consisting of SMILES data\n",
    "cyp3a4_inhib_train = pd.read_csv('data/cyp3a4_inhibitor_train.csv')\n",
    "cyp3a4_inhib_test = pd.read_csv('data/cyp3a4_inhibitor_test.csv')\n",
    "cyp3a4_inhib_val = pd.read_csv('data/cyp3a4_inhibitor_val.csv')\n"
   ]
  },
  {
   "cell_type": "code",
   "execution_count": 5,
   "id": "fddf4780",
   "metadata": {},
   "outputs": [
    {
     "name": "stderr",
     "output_type": "stream",
     "text": [
      " 58%|█████▊    | 58/100 [00:54<01:17,  1.85s/it]"
     ]
    },
    {
     "name": "stdout",
     "output_type": "stream",
     "text": [
      "/Users/yongjudan/MLDL_projects/Deep_PK/deeppk_venv/lib/python3.10/site-packages/numpy/core/fromnumeric.py:86: RuntimeWarning: overflow encountered in reduce\n",
      "  return ufunc.reduce(obj, axis, dtype, out, **passkwargs)\n"
     ]
    },
    {
     "name": "stderr",
     "output_type": "stream",
     "text": [
      "100%|██████████| 100/100 [01:12<00:00,  1.39it/s]\n",
      "/Users/yongjudan/MLDL_projects/Deep_PK/deeppk_venv/lib/python3.10/site-packages/sklearn/feature_selection/_variance_threshold.py:114: RuntimeWarning: Degrees of freedom <= 0 for slice.\n",
      "  self.variances_ = np.nanvar(X, axis=0)\n"
     ]
    }
   ],
   "source": [
    "# Figuring out the descriptor features to use in the data\n",
    "smiles_list = cyp3a4_inhib_train['smiles_standarized'][0:100]\n",
    "mols = [Chem.MolFromSmiles(smiles) for smiles in smiles_list]\n",
    "mols = [mol for mol in mols if mol is not None]  # remove failed conversions\n",
    "\n",
    "# Initialize the Mordred calculator with all descriptors\n",
    "calc = Calculator(descriptors, ignore_3D=True)\n",
    "df_desc = calc.pandas(mols, nproc=4)\n",
    "\n",
    "# Filter descriptors with low variance: constants that provide minimal information and not useful for modeling\n",
    "selector = VarianceThreshold(threshold=0.01)  \n",
    "df_filtered = pd.DataFrame(selector.fit_transform(df_desc),\n",
    "                            columns=df_desc.columns[selector.get_support()])\n",
    "\n",
    "# Normalize data with standard scaler: useful as data contain logarithmic values\n",
    "scaler = StandardScaler()\n",
    "df_scaled = pd.DataFrame(\n",
    "    scaler.fit_transform(df_filtered),\n",
    "    columns=df_filtered.columns,\n",
    "    index=df_filtered.index)\n",
    "\n",
    "# Finding correlation between descriptors to drop highly correlated features (duplicate features)\n",
    "# Set threhold for corelation: 0.85\n",
    "threshold = 0.85\n",
    "corr_matrix = df_scaled.corr().abs()\n",
    "upper = corr_matrix.where(np.triu(np.ones(corr_matrix.shape), k=1).astype(bool)) # Get upper triangle of correlation matrix\n",
    "to_drop = [column for column in upper.columns if any(upper[column] > threshold)]\n",
    "df_reduced = df_filtered.drop(columns=to_drop)\n"
   ]
  },
  {
   "cell_type": "code",
   "execution_count": 6,
   "id": "4cc9d172",
   "metadata": {},
   "outputs": [
    {
     "name": "stdout",
     "output_type": "stream",
     "text": [
      "266\n"
     ]
    },
    {
     "name": "stderr",
     "output_type": "stream",
     "text": [
      "100%|██████████| 1/1 [00:00<00:00,  2.77it/s]\n"
     ]
    }
   ],
   "source": [
    "# Extract the descriptors from the reduced DataFrame\n",
    "print(len(df_reduced.columns))  # Number of descriptors after filtering\n",
    "selected_desc = df_reduced.columns.tolist()\n",
    "\n",
    "# Extracting the descriptors from the original Mordred calculator\n",
    "calc_all = Calculator(descriptors, ignore_3D=True)\n",
    "mol = Chem.MolFromSmiles(\"CCO\")\n",
    "df_all = calc_all.pandas([mol])\n",
    "desc_map = {}\n",
    "for desc in calc_all.descriptors:\n",
    "    name = str(desc)\n",
    "    if name in df_all.columns:\n",
    "        desc_map[name] = desc\n",
    "\n",
    "# Filtering selected descriptors from the original Mordred calculator\n",
    "selected_desc_objects = [desc_map[name] for name in selected_desc if name in desc_map]\n",
    "\n"
   ]
  },
  {
   "cell_type": "code",
   "execution_count": 8,
   "id": "7b6beb06",
   "metadata": {},
   "outputs": [],
   "source": [
    "def desc_extract_batch(df, batch_size=1000):\n",
    "    tqdm.pandas()\n",
    "    #calc = Calculator(selected_desc, ignore_3D=True)\n",
    "    calc_selected = Calculator(selected_desc_objects, ignore_3D=True)\n",
    "    df = df['smiles_standarized']\n",
    "    \n",
    "    all_desc = []\n",
    "\n",
    "    for i in range(0, len(df), batch_size):\n",
    "        batch = df[i:i+batch_size]\n",
    "        print(f\"\\n▶ Processing batch {i}–{i+len(batch)-1}...\")\n",
    "\n",
    "        mols = [Chem.MolFromSmiles(s) for s in tqdm(batch, desc=\"SMILES → Mol\")]\n",
    "        mols = [mol for mol in mols if mol is not None]\n",
    "        df_desc = calc_selected.pandas(mols, nproc=4)\n",
    "        all_desc.append(df_desc)\n",
    "\n",
    "    # Combine all batches\n",
    "    df_all = pd.concat(all_desc, axis=0)\n",
    "\n",
    "    return df_all"
   ]
  },
  {
   "cell_type": "code",
   "execution_count": 157,
   "id": "c4547bf1",
   "metadata": {},
   "outputs": [
    {
     "name": "stdout",
     "output_type": "stream",
     "text": [
      "\n",
      "▶ Processing batch 0–999...\n"
     ]
    },
    {
     "name": "stderr",
     "output_type": "stream",
     "text": [
      "SMILES → Mol: 100%|██████████| 1000/1000 [00:00<00:00, 12832.70it/s]\n"
     ]
    },
    {
     "name": "stdout",
     "output_type": "stream",
     "text": [
      "\n",
      "▶ Processing batch 1000–1999...\n"
     ]
    },
    {
     "name": "stderr",
     "output_type": "stream",
     "text": [
      "SMILES → Mol: 100%|██████████| 1000/1000 [00:00<00:00, 13579.91it/s]\n"
     ]
    },
    {
     "name": "stdout",
     "output_type": "stream",
     "text": [
      "\n",
      "▶ Processing batch 2000–2999...\n"
     ]
    },
    {
     "name": "stderr",
     "output_type": "stream",
     "text": [
      "SMILES → Mol: 100%|██████████| 1000/1000 [00:00<00:00, 6972.63it/s]\n"
     ]
    },
    {
     "name": "stdout",
     "output_type": "stream",
     "text": [
      "\n",
      "▶ Processing batch 3000–3999...\n"
     ]
    },
    {
     "name": "stderr",
     "output_type": "stream",
     "text": [
      "SMILES → Mol: 100%|██████████| 1000/1000 [00:00<00:00, 14229.85it/s]\n"
     ]
    },
    {
     "name": "stdout",
     "output_type": "stream",
     "text": [
      "\n",
      "▶ Processing batch 4000–4999...\n"
     ]
    },
    {
     "name": "stderr",
     "output_type": "stream",
     "text": [
      "SMILES → Mol: 100%|██████████| 1000/1000 [00:00<00:00, 12898.09it/s]\n"
     ]
    },
    {
     "name": "stdout",
     "output_type": "stream",
     "text": [
      "\n",
      "▶ Processing batch 5000–5999...\n"
     ]
    },
    {
     "name": "stderr",
     "output_type": "stream",
     "text": [
      "SMILES → Mol: 100%|██████████| 1000/1000 [00:00<00:00, 13283.33it/s]\n"
     ]
    },
    {
     "name": "stdout",
     "output_type": "stream",
     "text": [
      "\n",
      "▶ Processing batch 6000–6999...\n"
     ]
    },
    {
     "name": "stderr",
     "output_type": "stream",
     "text": [
      "SMILES → Mol: 100%|██████████| 1000/1000 [00:00<00:00, 13484.38it/s]\n"
     ]
    },
    {
     "name": "stdout",
     "output_type": "stream",
     "text": [
      "\n",
      "▶ Processing batch 7000–7999...\n"
     ]
    },
    {
     "name": "stderr",
     "output_type": "stream",
     "text": [
      "SMILES → Mol: 100%|██████████| 1000/1000 [00:00<00:00, 12914.09it/s]\n"
     ]
    },
    {
     "name": "stdout",
     "output_type": "stream",
     "text": [
      "\n",
      "▶ Processing batch 8000–8999...\n"
     ]
    },
    {
     "name": "stderr",
     "output_type": "stream",
     "text": [
      "SMILES → Mol: 100%|██████████| 1000/1000 [00:00<00:00, 13380.84it/s]\n"
     ]
    },
    {
     "name": "stdout",
     "output_type": "stream",
     "text": [
      "\n",
      "▶ Processing batch 9000–9999...\n"
     ]
    },
    {
     "name": "stderr",
     "output_type": "stream",
     "text": [
      "SMILES → Mol: 100%|██████████| 1000/1000 [00:00<00:00, 13719.29it/s]\n"
     ]
    },
    {
     "name": "stdout",
     "output_type": "stream",
     "text": [
      "\n",
      "▶ Processing batch 10000–10999...\n"
     ]
    },
    {
     "name": "stderr",
     "output_type": "stream",
     "text": [
      "SMILES → Mol: 100%|██████████| 1000/1000 [00:00<00:00, 12089.87it/s]\n"
     ]
    },
    {
     "name": "stdout",
     "output_type": "stream",
     "text": [
      "\n",
      "▶ Processing batch 11000–11999...\n"
     ]
    },
    {
     "name": "stderr",
     "output_type": "stream",
     "text": [
      "SMILES → Mol: 100%|██████████| 1000/1000 [00:00<00:00, 12347.96it/s]\n"
     ]
    },
    {
     "name": "stdout",
     "output_type": "stream",
     "text": [
      "\n",
      "▶ Processing batch 12000–12999...\n"
     ]
    },
    {
     "name": "stderr",
     "output_type": "stream",
     "text": [
      "SMILES → Mol: 100%|██████████| 1000/1000 [00:00<00:00, 14393.04it/s]\n"
     ]
    },
    {
     "name": "stdout",
     "output_type": "stream",
     "text": [
      "\n",
      "▶ Processing batch 13000–13999...\n"
     ]
    },
    {
     "name": "stderr",
     "output_type": "stream",
     "text": [
      "SMILES → Mol: 100%|██████████| 1000/1000 [00:00<00:00, 14192.48it/s]\n"
     ]
    },
    {
     "name": "stdout",
     "output_type": "stream",
     "text": [
      "\n",
      "▶ Processing batch 14000–14999...\n"
     ]
    },
    {
     "name": "stderr",
     "output_type": "stream",
     "text": [
      "SMILES → Mol: 100%|██████████| 1000/1000 [00:00<00:00, 14216.44it/s]\n"
     ]
    },
    {
     "name": "stdout",
     "output_type": "stream",
     "text": [
      "\n",
      "▶ Processing batch 15000–15999...\n"
     ]
    },
    {
     "name": "stderr",
     "output_type": "stream",
     "text": [
      "SMILES → Mol: 100%|██████████| 1000/1000 [00:00<00:00, 14301.85it/s]\n"
     ]
    },
    {
     "name": "stdout",
     "output_type": "stream",
     "text": [
      "\n",
      "▶ Processing batch 16000–16999...\n"
     ]
    },
    {
     "name": "stderr",
     "output_type": "stream",
     "text": [
      "SMILES → Mol: 100%|██████████| 1000/1000 [00:00<00:00, 14732.93it/s]\n"
     ]
    },
    {
     "name": "stdout",
     "output_type": "stream",
     "text": [
      "\n",
      "▶ Processing batch 17000–17999...\n"
     ]
    },
    {
     "name": "stderr",
     "output_type": "stream",
     "text": [
      "SMILES → Mol: 100%|██████████| 1000/1000 [00:00<00:00, 14541.89it/s]\n"
     ]
    },
    {
     "name": "stdout",
     "output_type": "stream",
     "text": [
      "\n",
      "▶ Processing batch 18000–18427...\n"
     ]
    },
    {
     "name": "stderr",
     "output_type": "stream",
     "text": [
      "SMILES → Mol: 100%|██████████| 428/428 [00:00<00:00, 14221.58it/s]\n"
     ]
    }
   ],
   "source": [
    "train_df_batch = desc_extract_batch(cyp3a4_inhib_train)"
   ]
  },
  {
   "cell_type": "code",
   "execution_count": 162,
   "id": "43496d70",
   "metadata": {},
   "outputs": [
    {
     "name": "stdout",
     "output_type": "stream",
     "text": [
      "<class 'mordred._base.pandas_module.MordredDataFrame'>\n",
      "RangeIndex: 18428 entries, 0 to 18427\n",
      "Columns: 266 entries, ABC to n9FAHRing\n",
      "dtypes: float64(76), int64(56), object(134)\n",
      "memory usage: 37.4+ MB\n",
      "None\n",
      "<class 'pandas.core.frame.DataFrame'>\n",
      "RangeIndex: 18428 entries, 0 to 18427\n",
      "Columns: 269 entries, smiles_standarized to n9FAHRing\n",
      "dtypes: float64(77), int64(56), object(136)\n",
      "memory usage: 37.8+ MB\n",
      "None\n"
     ]
    }
   ],
   "source": [
    "train_df_batch = train_df_batch.reset_index(drop=True)\n",
    "concat_3a4_train = pd.concat([cyp3a4_inhib_train, train_df_batch], axis = 1)\n",
    "print(train_df_batch.info())\n",
    "print(concat_3a4_train.info())\n",
    "\n",
    "# Save the processed DataFrame to a CSV file\n",
    "concat_3a4_train.to_csv('cyp3a4_inhibitor_train_desc.csv', index=False)"
   ]
  },
  {
   "cell_type": "code",
   "execution_count": 159,
   "id": "0e54d986",
   "metadata": {},
   "outputs": [
    {
     "name": "stdout",
     "output_type": "stream",
     "text": [
      "\n",
      "▶ Processing batch 0–999...\n"
     ]
    },
    {
     "name": "stderr",
     "output_type": "stream",
     "text": [
      "SMILES → Mol: 100%|██████████| 1000/1000 [00:00<00:00, 13466.98it/s]\n"
     ]
    },
    {
     "name": "stdout",
     "output_type": "stream",
     "text": [
      "\n",
      "▶ Processing batch 1000–1999...\n"
     ]
    },
    {
     "name": "stderr",
     "output_type": "stream",
     "text": [
      "SMILES → Mol: 100%|██████████| 1000/1000 [00:00<00:00, 13845.60it/s]\n"
     ]
    },
    {
     "name": "stdout",
     "output_type": "stream",
     "text": [
      "\n",
      "▶ Processing batch 2000–2306...\n"
     ]
    },
    {
     "name": "stderr",
     "output_type": "stream",
     "text": [
      "SMILES → Mol: 100%|██████████| 307/307 [00:00<00:00, 13823.71it/s]\n"
     ]
    }
   ],
   "source": [
    "test_df_batch = desc_extract_batch(cyp3a4_inhib_test)"
   ]
  },
  {
   "cell_type": "code",
   "execution_count": 2,
   "id": "22d0cdb3",
   "metadata": {},
   "outputs": [
    {
     "ename": "NameError",
     "evalue": "name 'test_df_batch' is not defined",
     "output_type": "error",
     "traceback": [
      "\u001b[0;31m---------------------------------------------------------------------------\u001b[0m",
      "\u001b[0;31mNameError\u001b[0m                                 Traceback (most recent call last)",
      "Cell \u001b[0;32mIn[2], line 1\u001b[0m\n\u001b[0;32m----> 1\u001b[0m test_df_batch \u001b[38;5;241m=\u001b[39m \u001b[43mtest_df_batch\u001b[49m\u001b[38;5;241m.\u001b[39mreset_index(drop\u001b[38;5;241m=\u001b[39m\u001b[38;5;28;01mTrue\u001b[39;00m)\n\u001b[1;32m      2\u001b[0m concat_3a4_test \u001b[38;5;241m=\u001b[39m pd\u001b[38;5;241m.\u001b[39mconcat([cyp3a4_inhib_test, test_df_batch], axis \u001b[38;5;241m=\u001b[39m \u001b[38;5;241m1\u001b[39m)\n\u001b[1;32m      3\u001b[0m \u001b[38;5;28mprint\u001b[39m(test_df_batch\u001b[38;5;241m.\u001b[39minfo())\n",
      "\u001b[0;31mNameError\u001b[0m: name 'test_df_batch' is not defined"
     ]
    }
   ],
   "source": [
    "test_df_batch = test_df_batch.reset_index(drop=True)\n",
    "concat_3a4_test = pd.concat([cyp3a4_inhib_test, test_df_batch], axis = 1)\n",
    "print(test_df_batch.info())\n",
    "print(concat_3a4_test.info())\n",
    "\n",
    "# Save the processed DataFrame to a CSV file\n",
    "concat_3a4_test.to_csv('cyp3a4_inhibitor_test_desc.csv', index=False)"
   ]
  },
  {
   "cell_type": "code",
   "execution_count": 9,
   "id": "2efcacbd",
   "metadata": {},
   "outputs": [
    {
     "name": "stdout",
     "output_type": "stream",
     "text": [
      "\n",
      "▶ Processing batch 0–999...\n"
     ]
    },
    {
     "name": "stderr",
     "output_type": "stream",
     "text": [
      "SMILES → Mol: 100%|██████████| 1000/1000 [00:00<00:00, 11253.41it/s]\n",
      "100%|██████████| 1000/1000 [01:10<00:00, 14.27it/s]\n"
     ]
    },
    {
     "name": "stdout",
     "output_type": "stream",
     "text": [
      "\n",
      "▶ Processing batch 1000–1999...\n"
     ]
    },
    {
     "name": "stderr",
     "output_type": "stream",
     "text": [
      "SMILES → Mol: 100%|██████████| 1000/1000 [00:00<00:00, 13624.73it/s]\n",
      "100%|██████████| 1000/1000 [00:58<00:00, 17.16it/s]\n"
     ]
    },
    {
     "name": "stdout",
     "output_type": "stream",
     "text": [
      "\n",
      "▶ Processing batch 2000–2304...\n"
     ]
    },
    {
     "name": "stderr",
     "output_type": "stream",
     "text": [
      "SMILES → Mol: 100%|██████████| 305/305 [00:00<00:00, 13400.61it/s]\n",
      "100%|██████████| 305/305 [00:13<00:00, 22.37it/s]\n"
     ]
    },
    {
     "name": "stdout",
     "output_type": "stream",
     "text": [
      "<class 'mordred._base.pandas_module.MordredDataFrame'>\n",
      "RangeIndex: 2305 entries, 0 to 2304\n",
      "Columns: 266 entries, ABC to n9FAHRing\n",
      "dtypes: float64(113), int64(56), object(97)\n",
      "memory usage: 4.7+ MB\n",
      "None\n",
      "<class 'pandas.core.frame.DataFrame'>\n",
      "RangeIndex: 2305 entries, 0 to 2304\n",
      "Columns: 269 entries, smiles_standarized to n9FAHRing\n",
      "dtypes: float64(114), int64(56), object(99)\n",
      "memory usage: 4.7+ MB\n",
      "None\n"
     ]
    }
   ],
   "source": [
    "val_df_batch = desc_extract_batch(cyp3a4_inhib_val)\n",
    "val_df_batch = val_df_batch.reset_index(drop=True)\n",
    "concat_3a4_val = pd.concat([cyp3a4_inhib_val, val_df_batch], axis = 1)\n",
    "print(val_df_batch.info())\n",
    "print(concat_3a4_val.info())\n",
    "# Save the processed DataFrame to a CSV file\n",
    "concat_3a4_val.to_csv('cyp3a4_inhibitor_val_desc.csv', index=False)"
   ]
  }
 ],
 "metadata": {
  "kernelspec": {
   "display_name": "deeppk_venv",
   "language": "python",
   "name": "python3"
  },
  "language_info": {
   "codemirror_mode": {
    "name": "ipython",
    "version": 3
   },
   "file_extension": ".py",
   "mimetype": "text/x-python",
   "name": "python",
   "nbconvert_exporter": "python",
   "pygments_lexer": "ipython3",
   "version": "3.10.13"
  }
 },
 "nbformat": 4,
 "nbformat_minor": 5
}
